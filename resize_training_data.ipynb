{
 "cells": [
  {
   "cell_type": "markdown",
   "id": "0f18e2d9",
   "metadata": {},
   "source": [
    "# Resize all the image into 1024 x 1024"
   ]
  },
  {
   "cell_type": "code",
   "execution_count": 5,
   "id": "e5012078",
   "metadata": {},
   "outputs": [],
   "source": [
    "from PIL import Image\n",
    "import os\n",
    "import shutil\n",
    "\n",
    "# Set the directory path\n",
    "source = \"C:/Users/xiaoq/Downloads/FYP 1024 resnet/train(crop rename)\"\n",
    "destination = \"C:/Users/xiaoq/Downloads/FYP 1024 resnet/train(crop rename resize)\"\n",
    "\n",
    "# Loop through all the files in the directory\n",
    "for filename in os.listdir(source):\n",
    "    # Check if the file is an XML file\n",
    "    if filename.endswith('.jpg'):\n",
    "        \n",
    "        #open the image\n",
    "        img = Image.open(os.path.join(source,filename))\n",
    "        \n",
    "        #resize the image\n",
    "        img = img.resize((1024,1024))\n",
    "        \n",
    "        #save the resized image\n",
    "        img.save(os.path.join(destination, filename))\n",
    "    "
   ]
  }
 ],
 "metadata": {
  "kernelspec": {
   "display_name": "Python [conda env:base]",
   "language": "python",
   "name": "base"
  },
  "language_info": {
   "codemirror_mode": {
    "name": "ipython",
    "version": 3
   },
   "file_extension": ".py",
   "mimetype": "text/x-python",
   "name": "python",
   "nbconvert_exporter": "python",
   "pygments_lexer": "ipython3",
   "version": "3.9.13"
  }
 },
 "nbformat": 4,
 "nbformat_minor": 5
}
