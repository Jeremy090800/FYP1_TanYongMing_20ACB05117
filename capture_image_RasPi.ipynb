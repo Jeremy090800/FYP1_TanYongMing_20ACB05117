{
 "cells": [
  {
   "cell_type": "markdown",
   "id": "bdd6dbaa",
   "metadata": {},
   "source": [
    "# Capture 1 image every 1 second"
   ]
  },
  {
   "cell_type": "code",
   "execution_count": 3,
   "id": "45db9d75",
   "metadata": {},
   "outputs": [],
   "source": [
    "import cv2 as cv\n",
    "import os\n",
    "    \n",
    "webCam = cv.VideoCapture(0)\n",
    "image_counter = 1\n",
    "\n",
    "if webCam.isOpened():\n",
    "    while True:\n",
    "        ret, frame = webCam.read()\n",
    "        resized_frame = cv.resize(frame, (1024,1024))\n",
    "        cv.imshow(\"Frame\",resized_frame)\n",
    "        cv.imwrite(os.path.join(f'output/output{image_counter}.jpg'),resized_frame)\n",
    "        image_counter += 1\n",
    "        k = cv.waitKey(1000)\n",
    "        if k % 256 == 27:\n",
    "            break\n",
    "else:\n",
    "    print(\"failed to open camera\")\n",
    "\n",
    "webCam.release()\n",
    "cv.destroyAllWindows()"
   ]
  }
 ],
 "metadata": {
  "kernelspec": {
   "display_name": "Python [conda env:base]",
   "language": "python",
   "name": "base"
  },
  "language_info": {
   "codemirror_mode": {
    "name": "ipython",
    "version": 3
   },
   "file_extension": ".py",
   "mimetype": "text/x-python",
   "name": "python",
   "nbconvert_exporter": "python",
   "pygments_lexer": "ipython3",
   "version": "3.9.13"
  }
 },
 "nbformat": 4,
 "nbformat_minor": 5
}
