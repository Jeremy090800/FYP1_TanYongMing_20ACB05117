{
 "cells": [
  {
   "cell_type": "markdown",
   "id": "fa75a2e5",
   "metadata": {},
   "source": [
    "# Capture 1 image every 1 second"
   ]
  },
  {
   "cell_type": "code",
   "execution_count": 1,
   "id": "778bb7be",
   "metadata": {},
   "outputs": [],
   "source": [
    "import cv2 as cv\n",
    "import os\n",
    "\n",
    "path = \"C:/Users/xiaoq/Downloads/FYP 1024 resnet/captures\"\n",
    "    \n",
    "webCam = cv.VideoCapture(1)\n",
    "image_counter = 1\n",
    "\n",
    "if webCam.isOpened():\n",
    "    while True:\n",
    "        ret, frame = webCam.read()\n",
    "        cv.imshow(\"Frame\",frame)\n",
    "        cv.imwrite(os.path.join(path, f'output{image_counter}.jpg'),frame)\n",
    "        image_counter += 1\n",
    "        k = cv.waitKey(1000)\n",
    "        if k % 256 == 27:\n",
    "            break\n",
    "else:\n",
    "    print(\"failed to open camera\")\n",
    "\n",
    "webCam.release()\n",
    "cv.destroyAllWindows()"
   ]
  }
 ],
 "metadata": {
  "kernelspec": {
   "display_name": "Python [conda env:base]",
   "language": "python",
   "name": "base"
  },
  "language_info": {
   "codemirror_mode": {
    "name": "ipython",
    "version": 3
   },
   "file_extension": ".py",
   "mimetype": "text/x-python",
   "name": "python",
   "nbconvert_exporter": "python",
   "pygments_lexer": "ipython3",
   "version": "3.9.13"
  }
 },
 "nbformat": 4,
 "nbformat_minor": 5
}
