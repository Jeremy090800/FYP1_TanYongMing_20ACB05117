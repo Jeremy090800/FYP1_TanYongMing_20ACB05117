{
 "cells": [
  {
   "cell_type": "markdown",
   "id": "69f6a5f2",
   "metadata": {},
   "source": [
    "# Loop through multiple pictures and crop them"
   ]
  },
  {
   "cell_type": "code",
   "execution_count": null,
   "id": "4dea8063",
   "metadata": {},
   "outputs": [],
   "source": [
    "from PIL import Image\n",
    "import os\n",
    "\n",
    "# Define the size of the crop\n",
    "crop_size = (2302, 1320)\n",
    "\n",
    "# Define the source_path containing the images to crop\n",
    "source_path = \"C:/Users/xiaoq/Downloads/FYP 1024 resnet/train\"\n",
    "dest_path = \"C:/Users/xiaoq/Downloads/FYP 1024 resnet/train(crop)\"\n",
    "\n",
    "\n",
    "# Iterate over the files in the source_pathb\n",
    "for file_name in os.listdir(source_path):\n",
    "    if file_name.endswith(\".jpg\"):\n",
    "        # Open the image\n",
    "        image = Image.open(os.path.join(source_path, file_name))\n",
    "        \n",
    "        # Crop the image\n",
    "        cropped_image = image.crop((382, 240, crop_size[0], crop_size[1]))\n",
    "        \n",
    "        # Save the cropped image with the same file name\n",
    "        cropped_image.save(os.path.join(dest_path, file_name))\n",
    "        \n",
    "    else:\n",
    "        #the file is not a jpg file\n",
    "        print(file_name + \"this file is not an .jpg file\")\n",
    "        print(\"so you need to remove that file and re-run the rename picture\")"
   ]
  }
 ],
 "metadata": {
  "kernelspec": {
   "display_name": "Python [conda env:base]",
   "language": "python",
   "name": "base"
  },
  "language_info": {
   "codemirror_mode": {
    "name": "ipython",
    "version": 3
   },
   "file_extension": ".py",
   "mimetype": "text/x-python",
   "name": "python",
   "nbconvert_exporter": "python",
   "pygments_lexer": "ipython3",
   "version": "3.9.13"
  }
 },
 "nbformat": 4,
 "nbformat_minor": 5
}
