{
 "cells": [
  {
   "cell_type": "markdown",
   "id": "aff7ea42",
   "metadata": {},
   "source": [
    "# Loop throguht multiple cropped pictures and rename them"
   ]
  },
  {
   "cell_type": "code",
   "execution_count": null,
   "id": "a1c7b612",
   "metadata": {},
   "outputs": [],
   "source": [
    "import os\n",
    "import shutil\n",
    "\n",
    "# Define the source containing the files to be copied and renamed\n",
    "source = \"C:/Users/xiaoq/Downloads/FYP 1024 resnet/train(crop)\"\n",
    "output = \"C:/Users/xiaoq/Downloads/FYP 1024 resnet/train(crop rename)\"\n",
    "\n",
    "# Define the base name for the files\n",
    "base_name = 'g_img'\n",
    "\n",
    "# Initialize a counter for the file number\n",
    "file_num = 1\n",
    "\n",
    "# Loop through all files in the source\n",
    "for filename in os.listdir(source):\n",
    "    # Get the full path of the file\n",
    "    old_path = os.path.join(source, filename)\n",
    "    # Construct the new file name with an incrementing number\n",
    "    new_name = f\"{base_name}{file_num}{os.path.splitext(filename)[1]}\"\n",
    "    # Construct the full path of the new file\n",
    "    new_path = os.path.join(output, new_name)\n",
    "    # Copy the file to the output directory\n",
    "    shutil.copy(old_path, new_path)\n",
    "    # Rename the file in the output directory\n",
    "    os.rename(new_path, os.path.join(output, new_name))\n",
    "    # Increment the file number counter\n",
    "    file_num += 1\n"
   ]
  }
 ],
 "metadata": {
  "kernelspec": {
   "display_name": "Python [conda env:base]",
   "language": "python",
   "name": "base"
  },
  "language_info": {
   "codemirror_mode": {
    "name": "ipython",
    "version": 3
   },
   "file_extension": ".py",
   "mimetype": "text/x-python",
   "name": "python",
   "nbconvert_exporter": "python",
   "pygments_lexer": "ipython3",
   "version": "3.9.13"
  }
 },
 "nbformat": 4,
 "nbformat_minor": 5
}
